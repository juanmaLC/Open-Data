{
 "cells": [
  {
   "cell_type": "code",
   "execution_count": 2,
   "id": "21249739",
   "metadata": {},
   "outputs": [],
   "source": [
    "import tweepy"
   ]
  },
  {
   "cell_type": "markdown",
   "id": "b88d3a2a",
   "metadata": {},
   "source": [
    "# Filtrar log"
   ]
  },
  {
   "cell_type": "code",
   "execution_count": 4,
   "id": "6fd2a60c",
   "metadata": {},
   "outputs": [],
   "source": [
    "import pandas as pd\n",
    "import ckanapi\n"
   ]
  },
  {
   "cell_type": "code",
   "execution_count": 5,
   "id": "9afea64f",
   "metadata": {},
   "outputs": [],
   "source": [
    "# Log de nginx\n",
    "log=pd.read_table('/home/juanma/Escritorio/logTEST/access.log', names=['info'])\n",
    "#log=pd.read_table('/var/log/nginx/access.log', names=['info'])\n",
    "log['info']\n",
    "\n",
    "\n",
    "\n",
    "ckan =ckanapi.RemoteCKAN('http://opendata-test.ugr.es', apikey=APIKEY)\n",
    "\n",
    "\n",
    "#Conexion a twitter\n",
    "#API V2\n",
    "#client = tweepy.Client(bearer_token=bearerToken)\n",
    "\n",
    "# You can provide the consumer key and secret with the access token and access\n",
    "# token secret to authenticate as a user\n",
    "client = tweepy.Client(\n",
    "    consumer_key=apiKey, consumer_secret=apiKeySecret,\n",
    "    access_token=access_token, access_token_secret=access_token_secret\n",
    ")\n"
   ]
  },
  {
   "cell_type": "code",
   "execution_count": 6,
   "id": "33803953",
   "metadata": {},
   "outputs": [],
   "source": [
    "#Carga de los datasets de ckan\n",
    "datasets=ckan.action.package_list()"
   ]
  },
  {
   "cell_type": "code",
   "execution_count": 12,
   "id": "db9eeb72",
   "metadata": {
    "scrolled": false
   },
   "outputs": [
    {
     "name": "stdout",
     "output_type": "stream",
     "text": [
      "\n",
      "\n",
      "172.25.22.67 - - [16/Sep/2022:09:25:43 +0200] \"POST /dataset/prueba-twitter-opendatatest/resource/new HTTP/1.1\" 302 333 \"http://opendata-test.ugr.es/dataset/prueba-twitter-opendatatest/resource/new\" \"Mozilla/5.0 (X11; Ubuntu; Linux x86_64; rv:104.0) Gecko/20100101 Firefox/104.0\"\n",
      "El dataset 'prueba-twitter-opendatatest' existe\n",
      "\n",
      "\n",
      "172.25.22.67 - - [16/Sep/2022:10:08:55 +0200] \"POST /dataset/prueba-twitter-opendatatest/resource/new HTTP/1.1\" 302 333 \"http://opendata-test.ugr.es/dataset/prueba-twitter-opendatatest/resource/new\" \"Mozilla/5.0 (X11; Ubuntu; Linux x86_64; rv:104.0) Gecko/20100101 Firefox/104.0\"\n",
      "El dataset 'prueba-twitter-opendatatest' existe\n"
     ]
    }
   ],
   "source": [
    "\n",
    "#Se carga el log línea por linea y se comprueba que sea un post de un new dataset\n",
    "for line in log['info']:\n",
    "    \n",
    "    \n",
    "    \n",
    "    if ('POST /dataset/' in line and '/resource/new' in line):\n",
    "        \n",
    "        print(\"\\n\")\n",
    "        print(line)\n",
    "        \n",
    "        l=line.split(sep=' ')\n",
    "        datasetCreado=(l[6].split(sep='/')[2])\n",
    "        urlDataset=l[10].replace('/resource/new',\"\")\n",
    "        \n",
    "         \n",
    "\n",
    "        #Comprobar que el dataset existe\n",
    "        if (datasetCreado in datasets):\n",
    "            print (\"El dataset '\" + str(datasetCreado) + \"' existe\")\n",
    "            #Obtener información sobre el dataset\n",
    "            info=ckan.action.package_show(id=datasetCreado)\n",
    "    \n",
    "    \n",
    "            ##Acortar nombre del dataset 280 Tam maximo\n",
    "            titulo=info['title']\n",
    "            licencia=info['license_title']\n",
    "    \n",
    "            # Crear tweet con la información necesaria\n",
    "            tweet= 'Nuevo conjunto de datos --> ' + titulo +'\\nLicencia --> ' + licencia+'\\nURL --> ' + str(urlDataset)\n",
    "            \n",
    "            if (len(tweet) > 280):\n",
    "                tituloAcortado=titulo[:len(titulo)//2+10]\n",
    "                tituloAcortado=tituloAcostado + ' ... '\n",
    "                tweet= 'Nuevo conjunto de datos --> ' + tituloAcortado +'\\nLicencia --> ' + licencia+'\\nURL --> ' + str(urlDataset)\n",
    "\n",
    "            \n",
    "            #Para actualizacion de tweet\n",
    "            try:\n",
    "                response = client.create_tweet(text=tweet)\n",
    "            except tweepy.errors.Forbidden:\n",
    "                continue\n",
    "            \n",
    "\n",
    "    #else:\n",
    "        #print (\"Nigún dataset creado en este log\")\n",
    "            "
   ]
  }
 ],
 "metadata": {
  "kernelspec": {
   "display_name": "Python 3 (ipykernel)",
   "language": "python",
   "name": "python3"
  },
  "language_info": {
   "codemirror_mode": {
    "name": "ipython",
    "version": 3
   },
   "file_extension": ".py",
   "mimetype": "text/x-python",
   "name": "python",
   "nbconvert_exporter": "python",
   "pygments_lexer": "ipython3",
   "version": "3.8.10"
  }
 },
 "nbformat": 4,
 "nbformat_minor": 5
}
